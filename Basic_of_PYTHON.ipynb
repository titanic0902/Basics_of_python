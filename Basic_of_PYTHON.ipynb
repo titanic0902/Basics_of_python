{
 "cells": [
  {
   "cell_type": "markdown",
   "id": "c6f7e0f3",
   "metadata": {},
   "source": [
    "## Input"
   ]
  },
  {
   "cell_type": "code",
   "execution_count": null,
   "id": "39509c78",
   "metadata": {},
   "outputs": [],
   "source": [
    "a = int(input())\n",
    "b=int(input())\n",
    "c=a+b\n",
    "print(c)"
   ]
  },
  {
   "cell_type": "markdown",
   "id": "e2d3af55",
   "metadata": {},
   "source": [
    "## FOR LOOP"
   ]
  },
  {
   "cell_type": "code",
   "execution_count": null,
   "id": "8019e223",
   "metadata": {},
   "outputs": [],
   "source": [
    "for i in range(0,10,1):\n",
    "    print(i)"
   ]
  },
  {
   "cell_type": "code",
   "execution_count": null,
   "id": "a394f1ee",
   "metadata": {},
   "outputs": [],
   "source": [
    "for i in range(0,10,2):\n",
    "    print(i)"
   ]
  },
  {
   "cell_type": "markdown",
   "id": "739d4b54",
   "metadata": {},
   "source": [
    "## STRING\n"
   ]
  },
  {
   "cell_type": "code",
   "execution_count": null,
   "id": "8643601e",
   "metadata": {},
   "outputs": [],
   "source": [
    "a = 'Ishita'\n",
    "b='Thakur'\n",
    "a = a+b\n",
    "print(a)\n",
    "a==b\n"
   ]
  },
  {
   "cell_type": "code",
   "execution_count": null,
   "id": "4f9551eb",
   "metadata": {},
   "outputs": [],
   "source": [
    "a = \"My name is ishita Thakur\"\n",
    "a.split()"
   ]
  },
  {
   "cell_type": "code",
   "execution_count": null,
   "id": "b992da08",
   "metadata": {},
   "outputs": [],
   "source": [
    "a.replace(\"i\",\"I\")"
   ]
  },
  {
   "cell_type": "code",
   "execution_count": null,
   "id": "7ec716e7",
   "metadata": {},
   "outputs": [],
   "source": [
    "a.find('My')"
   ]
  },
  {
   "cell_type": "code",
   "execution_count": null,
   "id": "37f2ec7c",
   "metadata": {},
   "outputs": [],
   "source": [
    "a.startswith('My')"
   ]
  },
  {
   "cell_type": "markdown",
   "id": "86e7226d",
   "metadata": {},
   "source": [
    "## SLICING"
   ]
  },
  {
   "cell_type": "code",
   "execution_count": null,
   "id": "1a0dd05b",
   "metadata": {},
   "outputs": [],
   "source": [
    "a = \"My name is Ishita\"\n",
    "a[2:5]"
   ]
  },
  {
   "cell_type": "markdown",
   "id": "be897ba7",
   "metadata": {},
   "source": [
    "## List\n"
   ]
  },
  {
   "cell_type": "code",
   "execution_count": null,
   "id": "12841034",
   "metadata": {},
   "outputs": [],
   "source": [
    "a=[1,2,3,4]\n",
    "a[3]=40\n",
    "print(a)"
   ]
  },
  {
   "cell_type": "code",
   "execution_count": null,
   "id": "306c3edb",
   "metadata": {},
   "outputs": [],
   "source": [
    "b=[1,2,'ab',3]\n",
    "print(b)"
   ]
  },
  {
   "cell_type": "code",
   "execution_count": null,
   "id": "3a4e2230",
   "metadata": {},
   "outputs": [],
   "source": [
    "b = [i for i in range(11)]\n",
    "print(b)"
   ]
  },
  {
   "cell_type": "code",
   "execution_count": null,
   "id": "9746f302",
   "metadata": {},
   "outputs": [],
   "source": [
    "b = [i*i for i in range(11)]\n",
    "print(b)"
   ]
  },
  {
   "cell_type": "code",
   "execution_count": null,
   "id": "5cc7add4",
   "metadata": {},
   "outputs": [],
   "source": [
    "a = [1,2,3,4]\n",
    "b=[3,4,5,7]\n",
    "c=a+b  ## contenation \n",
    "print(c)"
   ]
  },
  {
   "cell_type": "code",
   "execution_count": null,
   "id": "7c7cfb9d",
   "metadata": {},
   "outputs": [],
   "source": [
    "m=[1,2,4,0]\n",
    "m.insert(1,100)\n",
    "print(m)"
   ]
  },
  {
   "cell_type": "code",
   "execution_count": null,
   "id": "fec07265",
   "metadata": {},
   "outputs": [],
   "source": [
    "m.pop(0) ## index put kero elemnt remove ho jayega\n",
    "print(m)"
   ]
  },
  {
   "cell_type": "code",
   "execution_count": null,
   "id": "bf2a7d28",
   "metadata": {},
   "outputs": [],
   "source": [
    "max(m)"
   ]
  },
  {
   "cell_type": "code",
   "execution_count": null,
   "id": "03bae094",
   "metadata": {},
   "outputs": [],
   "source": [
    "2 in m ## check the elemnt is present or not"
   ]
  },
  {
   "cell_type": "markdown",
   "id": "3cc8cee9",
   "metadata": {},
   "source": [
    "## INPUT IN LIST"
   ]
  },
  {
   "cell_type": "code",
   "execution_count": null,
   "id": "df14563d",
   "metadata": {},
   "outputs": [],
   "source": [
    "s = int(input())  \n",
    "a=[]\n",
    "for i in range(s):\n",
    "    ne = int(input())\n",
    "    a.append(ne)\n",
    "a   "
   ]
  },
  {
   "cell_type": "markdown",
   "id": "40edd356",
   "metadata": {},
   "source": [
    "# Slicing in List"
   ]
  },
  {
   "cell_type": "code",
   "execution_count": null,
   "id": "288f6cd4",
   "metadata": {},
   "outputs": [],
   "source": [
    "a = [1, 2, 3, 4, 5]\n",
    "sliced_a = a[0:3]\n",
    "print(sliced_a)"
   ]
  },
  {
   "cell_type": "code",
   "execution_count": null,
   "id": "d8c7fe36",
   "metadata": {},
   "outputs": [],
   "source": []
  },
  {
   "cell_type": "code",
   "execution_count": null,
   "id": "838c2797",
   "metadata": {},
   "outputs": [],
   "source": []
  },
  {
   "cell_type": "code",
   "execution_count": null,
   "id": "dff2a010",
   "metadata": {},
   "outputs": [],
   "source": []
  }
 ],
 "metadata": {
  "kernelspec": {
   "display_name": "Python 3 (ipykernel)",
   "language": "python",
   "name": "python3"
  },
  "language_info": {
   "codemirror_mode": {
    "name": "ipython",
    "version": 3
   },
   "file_extension": ".py",
   "mimetype": "text/x-python",
   "name": "python",
   "nbconvert_exporter": "python",
   "pygments_lexer": "ipython3",
   "version": "3.10.9"
  }
 },
 "nbformat": 4,
 "nbformat_minor": 5
}
